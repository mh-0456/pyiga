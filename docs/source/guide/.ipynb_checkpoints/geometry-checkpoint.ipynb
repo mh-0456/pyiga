{
 "cells": [
  {
   "cell_type": "code",
   "execution_count": null,
   "metadata": {},
   "outputs": [],
   "source": [
    "%pylab inline\n",
    "from pyiga import bspline, geometry, vis"
   ]
  },
  {
   "cell_type": "markdown",
   "metadata": {},
   "source": [
    "# Geometry manipulation in `pyiga`"
   ]
  },
  {
   "cell_type": "markdown",
   "metadata": {},
   "source": [
    "We can define line segments or circular arcs using the builtin functions\n",
    "from the `geometry` module\n",
    "(see [its documentation](https://pyiga.readthedocs.io/en/latest/api/geometry.html)\n",
    "for details on all the functions used here).\n",
    "All kinds of geometries can be conveniently plotted using the `vis.plot_geo()` function."
   ]
  },
  {
   "cell_type": "code",
   "execution_count": null,
   "metadata": {},
   "outputs": [],
   "source": [
    "f = geometry.circular_arc(pi/2)\n",
    "g = geometry.line_segment([0,0], [1,1])\n",
    "\n",
    "vis.plot_geo(f, color='red')\n",
    "vis.plot_geo(g, color='green')\n",
    "axis('equal');"
   ]
  },
  {
   "cell_type": "markdown",
   "metadata": {},
   "source": [
    "Geometries can be translated, rotated or scaled:"
   ]
  },
  {
   "cell_type": "code",
   "execution_count": null,
   "metadata": {},
   "outputs": [],
   "source": [
    "vis.plot_geo(f.rotate_2d(pi/4).translate([0,-0.5]), color='red')\n",
    "vis.plot_geo(g.scale([1,1/3]).translate([-.5,.25]), color='green')\n",
    "axis('equal');"
   ]
  },
  {
   "cell_type": "markdown",
   "metadata": {},
   "source": [
    "We can combine the univariate geometry functions $f(y)$ and $g(x)$ to create\n",
    "biviariate ones using, for instance, the outer sum\n",
    "\n",
    "$$\n",
    "    (f \\oplus g)(x,y) = f(y) + g(x)\n",
    "$$\n",
    "\n",
    "or the outer product\n",
    "\n",
    "$$\n",
    "    (f \\otimes g)(x,y) = f(y) * g(x).\n",
    "$$\n",
    "\n",
    "Here, both the addition and the product have to be understood in a componentwise fashion\n",
    "if $f$ and/or $g$ are vector-valued (as they are in our example)."
   ]
  },
  {
   "cell_type": "code",
   "execution_count": null,
   "metadata": {},
   "outputs": [],
   "source": [
    "vis.plot_geo(geometry.outer_sum(f, g))\n",
    "axis('equal');"
   ]
  },
  {
   "cell_type": "code",
   "execution_count": null,
   "metadata": {},
   "outputs": [],
   "source": [
    "vis.plot_geo(geometry.outer_product(f, g))\n",
    "axis('equal');"
   ]
  },
  {
   "cell_type": "markdown",
   "metadata": {},
   "source": [
    "The last outer product has a singularity at the origin because multiplying with $g(0)=(0,0)$\n",
    "forces all points into $(0,0)$. We can translate it first to avoid this, creating a\n",
    "quarter annulus domain in the process:"
   ]
  },
  {
   "cell_type": "code",
   "execution_count": null,
   "metadata": {},
   "outputs": [],
   "source": [
    "vis.plot_geo(geometry.outer_product(f, g.translate([1,1])))\n",
    "axis('equal');"
   ]
  },
  {
   "cell_type": "markdown",
   "metadata": {},
   "source": [
    "In this example, the second operand was a line segment from $(1,1)$ to $(2,2)$. Since numpy-style broadcasting\n",
    "works for all these operations, we can also simply define the second operand as a linear scalar\n",
    "function ranging from 1 to 2 to obtain the same effect:"
   ]
  },
  {
   "cell_type": "code",
   "execution_count": null,
   "metadata": {},
   "outputs": [],
   "source": [
    "vis.plot_geo(geometry.outer_product(f, geometry.line_segment(1, 2)))\n",
    "axis('equal');"
   ]
  },
  {
   "cell_type": "markdown",
   "metadata": {},
   "source": [
    "We can also generate tensor product geometries; here each input function $f$ and $g$\n",
    "has to be scalar such that the resulting output function $F$ is 2D-vector-valued, namely,\n",
    "$$\n",
    "    F(x,y) = (g(x), f(y)).\n",
    "$$\n",
    "\n",
    "However, you can also use this with higher-dimensional inputs, for instance to build a\n",
    "3D cylinder on top of a 2D domain."
   ]
  },
  {
   "cell_type": "code",
   "execution_count": null,
   "metadata": {},
   "outputs": [],
   "source": [
    "G = geometry.tensor_product(geometry.line_segment(0,1),\n",
    "                            geometry.line_segment(0,5, intervals=3))\n",
    "vis.plot_geo(G)\n",
    "axis('scaled');"
   ]
  },
  {
   "cell_type": "markdown",
   "metadata": {},
   "source": [
    "We can also define geometries through user-defined functions, where we have to specify the\n",
    "domain:"
   ]
  },
  {
   "cell_type": "code",
   "execution_count": null,
   "metadata": {},
   "outputs": [],
   "source": [
    "def f(x, y):\n",
    "    r = 1 + x\n",
    "    phi = (y - 0.5) * np.pi/2\n",
    "    return (r * np.cos(phi), r * np.sin(phi))\n",
    "\n",
    "f_func = geometry.UserFunction(f, [[0,1],[0,1]])\n",
    "vis.plot_geo(f_func)\n",
    "axis('equal');"
   ]
  },
  {
   "cell_type": "markdown",
   "metadata": {},
   "source": [
    "Finally, a bit of fun with translated and rotated outer products of circular arcs:"
   ]
  },
  {
   "cell_type": "code",
   "execution_count": null,
   "metadata": {},
   "outputs": [],
   "source": [
    "figsize(10,10)\n",
    "G1 = geometry.circular_arc(pi/3).translate((-1,0)).rotate_2d(-pi/6)\n",
    "G2 = G1.scale(-1).rotate_2d(pi/2)\n",
    "G1 = G1.translate((1,1))\n",
    "G2 = G2.translate((1,1))\n",
    "\n",
    "G = geometry.outer_product(G1, G2).translate((-1,-2)).rotate_2d(3*pi/4).translate((0,1))\n",
    "\n",
    "for i in range(8):\n",
    "    vis.plot_geo(G.rotate_2d(i*pi/4))\n",
    "axis('equal');\n",
    "axis('off');"
   ]
  }
 ],
 "metadata": {
  "kernelspec": {
   "display_name": "Python 3 (ipykernel)",
   "language": "python",
   "name": "python3"
  },
  "language_info": {
   "codemirror_mode": {
    "name": "ipython",
    "version": 3
   },
   "file_extension": ".py",
   "mimetype": "text/x-python",
   "name": "python",
   "nbconvert_exporter": "python",
   "pygments_lexer": "ipython3",
   "version": "3.9.12"
  }
 },
 "nbformat": 4,
 "nbformat_minor": 2
}
