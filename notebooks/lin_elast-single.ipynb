{
 "cells": [
  {
   "cell_type": "code",
   "execution_count": 1,
   "id": "a931d1ae",
   "metadata": {},
   "outputs": [
    {
     "name": "stdout",
     "output_type": "stream",
     "text": [
      "%pylab is deprecated, use %matplotlib inline and import the required libraries.\n",
      "Populating the interactive namespace from numpy and matplotlib\n"
     ]
    }
   ],
   "source": [
    "%pylab inline\n",
    "import scipy\n",
    "\n",
    "from pyiga import bspline, assemble, geometry, vis"
   ]
  },
  {
   "cell_type": "code",
   "execution_count": 2,
   "id": "e7e66ad5",
   "metadata": {},
   "outputs": [],
   "source": [
    "# rubber, Lamé-coeff.\n",
    "Mu = 0.003 # [GPa]\n",
    "Lam = 0.00028416 #  [GPa] (under ass. ny=0.48, almost incompressible)\n",
    "\n",
    "def linelast_vf(dim):\n",
    "    from pyiga.vform import VForm, grad, inner, div, dx\n",
    "    vf = VForm(dim)\n",
    "    u, v = vf.basisfuns(components=(dim,dim)) # vector valued\n",
    "    #vf.add(2* Mu *inner(1/2 * (grad(u) + grad(u).T), 1/2 * (grad(v) + grad(v).T)) * dx + Lam * div(u) * div(v)  * dx)\n",
    "    e_u = 1/2 * (grad(u) + grad(u).T)\n",
    "    e_v =  1/2 * (grad(v) + grad(v).T)\n",
    "    vf.add(2* Mu *inner(e_u, e_v) * dx + Lam * div(u) * div(v)  * dx) \n",
    "    return vf\n"
   ]
  },
  {
   "cell_type": "code",
   "execution_count": 3,
   "id": "3557e184",
   "metadata": {},
   "outputs": [
    {
     "data": {
      "image/png": "[encoded data removed]",
      "text/plain": [
       "<Figure size 432x288 with 1 Axes>"
      ]
     },
     "metadata": {
      "needs_background": "light"
     },
     "output_type": "display_data"
    }
   ],
   "source": [
    "# undeformed stick\n",
    "geo = geometry.tensor_product(geometry.line_segment(1,1.5), geometry.line_segment(0,5, intervals=3))\n",
    "\n",
    "vis.plot_geo(geo, grid=5)\n",
    "axis('equal');"
   ]
  },
  {
   "cell_type": "code",
   "execution_count": 4,
   "id": "6baa936c",
   "metadata": {},
   "outputs": [
    {
     "name": "stdout",
     "output_type": "stream",
     "text": [
      "Compiling C:\\Users\\MHeig\\AppData\\Local\\pyiga\\pyiga\\Cache\\modules\\mod836f42f5ef7b3fb9.pyx because it changed.\n",
      "[1/1] Cythonizing C:\\Users\\MHeig\\AppData\\Local\\pyiga\\pyiga\\Cache\\modules\\mod836f42f5ef7b3fb9.pyx\n",
      "(1378, 1378)\n"
     ]
    }
   ],
   "source": [
    "# define geometry\n",
    "#geo = geometry.quarter_annulus()\n",
    "\n",
    "# define discretization space\n",
    "p =3  # spline degree of velocity space #p=3\n",
    "#n_el = (50, 20)   # number of elements in y/x direction\n",
    "n_el = (50, 10) # istotropic material\n",
    "\n",
    "# displacement space: degree p,   continuity p-2\n",
    "kvs_u = tuple(bspline.make_knots(p,  0.0, 1.0, n, mult=1) for n in n_el)\n",
    "m_u = tuple(kv.numdofs for kv in kvs_u)\n",
    "\n",
    "A = assemble.assemble_vf(linelast_vf(2), kvs_u, geo=geo, symmetric=True)\n",
    "print(shape(A))"
   ]
  },
  {
   "cell_type": "code",
   "execution_count": 5,
   "id": "300d1aaa",
   "metadata": {},
   "outputs": [],
   "source": [
    "# define Dirichlet boundary conditions\n",
    "def g_def(x, y):  return (0.0, (1-y)*(1.5-y)) # at boundary = 0 , only in 2nd component\n",
    "def g_zero(x, y): return (0.0, 0.0)\n",
    "\n",
    "# set Dirichlet condition\n",
    "bcs = assemble.compute_dirichlet_bcs(kvs_u, geo,\n",
    "        [('left', g_zero)]) # left: dirichlet boundary cond.\n"
   ]
  },
  {
   "cell_type": "code",
   "execution_count": 6,
   "id": "623dd220",
   "metadata": {},
   "outputs": [],
   "source": [
    "# set inhom. Neumann cond. on distal end, hom. NBC elsewhere\n",
    "#def g(x, y): return (0,-3e-7) # Neumann BC function\n",
    "def g0(x,y):\n",
    "    if (x>4).all():\n",
    "        return -3e-7 # set force at distal end only\n",
    "    else:\n",
    "        return 0\n",
    "    \n",
    "def g(x,y):\n",
    "    if isinstance(x,numpy.float64):\n",
    "        return (0,g0(x,y))\n",
    "    return (0,[g0(xi,0) for xi in np.nditer(x)])\n",
    "\n",
    "\n",
    "# assemble neumann condition\n",
    "gn= assemble.assemble('inner(g,v)*ds', kvs_u, bfuns=[('v',2)], geo=geo, g=g, boundary='top')\n",
    "g2= assemble.boundary_dofs(kvs_u,'top',ravel=True) # gives us all boundary dofs\n",
    "\n",
    "# incorporate neumnann boundary condition\n",
    "shape_a= shape(A)[0]\n",
    "\n",
    "nbc= np.zeros(shape(A)[0])\n",
    "for i in range(len(g2)):\n",
    "    nbc[g2[i]]= gn[0,0,i] #gn[0,i,0],gn[0,0,i] X-component\n",
    "    nbc[g2[i]+shape_a//2]= gn[1,0,i] #gn[1,i,0], gn[1,0,i] Y component\n"
   ]
  },
  {
   "cell_type": "code",
   "execution_count": 7,
   "id": "a9013fab",
   "metadata": {},
   "outputs": [],
   "source": [
    "f = lambda x,y: (0,0)  # source term\n",
    "rhs = assemble.inner_products(kvs_u, f, f_physical=True, geo=geo).ravel()"
   ]
  },
  {
   "cell_type": "code",
   "execution_count": 8,
   "id": "b6ccad18",
   "metadata": {},
   "outputs": [
    {
     "name": "stdout",
     "output_type": "stream",
     "text": [
      "[ 0.         -0.00087726 -0.00249344 ... -0.14054389 -0.15612504\n",
      " -0.16391028]\n"
     ]
    }
   ],
   "source": [
    "# solve system with the given boundary conditions and 0 right-hand side\n",
    "LS = assemble.RestrictedLinearSystem(A, nbc+rhs, bcs)\n",
    "u = scipy.sparse.linalg.spsolve(LS.A, LS.b)\n",
    "u = LS.complete(u)\n",
    "print(u)\n"
   ]
  },
  {
   "cell_type": "code",
   "execution_count": null,
   "id": "c687365b",
   "metadata": {},
   "outputs": [],
   "source": [
    "#split the solution into its components (displacement in x- and y- direction)\n",
    "N = np.prod(tuple(kv.numdofs for kv in kvs_u))\n",
    "u1 = u[:N].reshape(m_u)\n",
    "u2 = u[N:2*N].reshape(m_u)\n",
    "U = np.stack((u1,u2), axis=-1)\n",
    "\n",
    "displ = geometry.BSplineFunc(kvs_u, U) "
   ]
  },
  {
   "cell_type": "code",
   "execution_count": null,
   "id": "26249455",
   "metadata": {},
   "outputs": [],
   "source": [
    "# evaluate displacement over a grid in the parameter domain\n",
    "xgrid = linspace(0, 1, 20)\n",
    "xygrid = (xgrid, xgrid)\n",
    "\n",
    "G = geo.grid_eval(xygrid)\n",
    "dis = displ.grid_eval(xygrid)"
   ]
  },
  {
   "cell_type": "code",
   "execution_count": null,
   "id": "84afd3ad",
   "metadata": {},
   "outputs": [],
   "source": [
    "import numpy as np\n",
    "import matplotlib.pyplot as plt\n",
    "from matplotlib.collections import LineCollection\n",
    "\n",
    "def plot_grid(x,y, ax=None, **kwargs):\n",
    "    ax = ax or plt.gca()\n",
    "    segs1 = np.stack((x,y), axis=2)\n",
    "    segs2 = segs1.transpose(1,0,2)\n",
    "    ax.add_collection(LineCollection(segs1, **kwargs))\n",
    "    ax.add_collection(LineCollection(segs2, **kwargs))\n",
    "    ax.autoscale()\n"
   ]
  },
  {
   "cell_type": "code",
   "execution_count": null,
   "id": "11d538d2",
   "metadata": {},
   "outputs": [],
   "source": [
    "# plot deformation\n",
    "#plt.subplot(226)\n",
    "figsize(10,10)\n",
    "fig, ax = plt.subplots()\n",
    "\n",
    "plot_grid(G[...,0], G[...,1], ax=ax, color=\"lightgrey\")\n",
    "plot_grid(G[...,0]+dis[...,0], G[...,1]+dis[...,1], ax=ax, color=\"black\")\n",
    "\n",
    "# colormesh w.r.t. displacement & deformed geometry\n",
    "pcolormesh(G[...,0]+dis[...,0], G[...,1]+dis[...,1], dis[...,1], cmap='summer', shading='gouraud');\n",
    "colorbar();\n",
    "\n",
    "axis('equal');"
   ]
  },
  {
   "cell_type": "code",
   "execution_count": null,
   "id": "47bd7f04",
   "metadata": {},
   "outputs": [],
   "source": [
    "y_val=[]\n",
    "for i in range(len(dis)):\n",
    "    y_val = np.append(y_val,dis[0,i,1])\n",
    "\n",
    "fig, ax = plt.subplots()\n",
    "ax.set_ylabel('Deformation')\n",
    "ax.set_xlabel('Evaluation points on grid')\n",
    "  \n",
    "ax.set_xlim(0, len(xgrid))\n",
    "ax.xaxis.set_major_locator(MaxNLocator(integer=True))\n",
    "ax.plot(y_val)\n",
    "ax.plot(y_val, color='g', label='p3')\n",
    "\n",
    "plt.show()\n"
   ]
  },
  {
   "cell_type": "code",
   "execution_count": null,
   "id": "3ca7ebd8",
   "metadata": {},
   "outputs": [],
   "source": []
  },
  {
   "cell_type": "code",
   "execution_count": null,
   "id": "d9ee3de6",
   "metadata": {},
   "outputs": [],
   "source": []
  }
 ],
 "metadata": {
  "kernelspec": {
   "display_name": "Python 3 (ipykernel)",
   "language": "python",
   "name": "python3"
  },
  "language_info": {
   "codemirror_mode": {
    "name": "ipython",
    "version": 3
   },
   "file_extension": ".py",
   "mimetype": "text/x-python",
   "name": "python",
   "nbconvert_exporter": "python",
   "pygments_lexer": "ipython3",
   "version": "3.9.12"
  }
 },
 "nbformat": 4,
 "nbformat_minor": 5
}
