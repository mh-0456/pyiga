{
 "cells": [
  {
   "cell_type": "markdown",
   "metadata": {},
   "source": [
    "# Linear elasticity in a multipatch domain"
   ]
  },
  {
   "cell_type": "code",
   "execution_count": 2,
   "metadata": {},
   "outputs": [
    {
     "name": "stdout",
     "output_type": "stream",
     "text": [
      "%pylab is deprecated, use %matplotlib inline and import the required libraries.\n",
      "Populating the interactive namespace from numpy and matplotlib\n"
     ]
    }
   ],
   "source": [
    "%pylab inline\n",
    "import scipy\n",
    "import itertools\n",
    "\n",
    "from pyiga import bspline, assemble, vform, geometry, vis, solvers\n",
    "\n",
    "import numpy as np\n",
    "import matplotlib.pyplot as plt\n",
    "from matplotlib.collections import LineCollection\n",
    "\n",
    "# assemble matrix\n",
    "from scipy.sparse import coo_matrix, block_diag, bmat"
   ]
  },
  {
   "cell_type": "code",
   "execution_count": 3,
   "metadata": {},
   "outputs": [],
   "source": [
    "p = 3  # spline degree \n",
    "n_el = (3,3)\n",
    "#n_el = (50, 10)   # number of elements in y/x direction, isotropic material\n",
    "#n_el = (50, 20)   # number of elements in y/x direction\n",
    "# displacement space: degree p,   continuity p-1\n",
    "kvs = tuple(bspline.make_knots(p, 0.0, 1.0, n, mult=1) for n in n_el) # or : mult=2\n",
    "m_u = tuple(kv.numdofs for kv in kvs)\n"
   ]
  },
  {
   "cell_type": "code",
   "execution_count": 4,
   "metadata": {},
   "outputs": [],
   "source": [
    "# define geometry map\n",
    "# undeformed stick\n",
    "geo1 = geometry.tensor_product(geometry.line_segment(1,1.5), geometry.line_segment(0,2.5, intervals=3))\n",
    "\n",
    "geos = [\n",
    "    geo1,\n",
    "    geo1.translate((2.5,0))\n",
    "]\n",
    "\n",
    "patches = [(kvs, g) for g in geos]\n",
    "\n",
    "#print(kvs)"
   ]
  },
  {
   "cell_type": "code",
   "execution_count": 5,
   "metadata": {},
   "outputs": [
    {
     "data": {
      "image/png": "[encoded data removed]",
      "text/plain": [
       "<Figure size 432x288 with 1 Axes>"
      ]
     },
     "metadata": {
      "needs_background": "light"
     },
     "output_type": "display_data"
    }
   ],
   "source": [
    "for g in geos:\n",
    "    vis.plot_geo(g,grid=2)\n",
    "axis('equal');"
   ]
  },
  {
   "cell_type": "code",
   "execution_count": 6,
   "metadata": {},
   "outputs": [],
   "source": [
    "# rubber, Lamé-coeff.\n",
    "Mu = 0.003 # [GPa]\n",
    "Lam = 0.00028416 #  [GPa] (under ass. ny=0.48, almost incompressible)"
   ]
  },
  {
   "cell_type": "code",
   "execution_count": 7,
   "metadata": {},
   "outputs": [],
   "source": [
    "def A11_vf(dim):\n",
    "    from pyiga.vform import VForm, grad, inner, div, dx, Dx\n",
    "    vf = VForm(dim)\n",
    "    u, v = vf.basisfuns()\n",
    "    \n",
    "    grad_uv= inner(grad(u), grad(v))\n",
    "    div_11 = Dx(u,0) * Dx(v,0)\n",
    "    \n",
    "    vf.add(Mu * ( grad_uv +  div_11) * dx  + Lam *div_11 * dx )\n",
    "    return vf\n",
    "\n",
    "def A12_vf(dim):\n",
    "    from pyiga.vform import VForm, grad, inner, div, dx, Dx\n",
    "    vf = VForm(dim)\n",
    "    u, v = vf.basisfuns()\n",
    "\n",
    "    grad_uv= inner(grad(u), grad(v))\n",
    "    div_12 = Dx(u,1) * Dx(v,0)\n",
    "    div_21 = Dx(u,0) * Dx(v,1)\n",
    "    \n",
    "    vf.add(Mu * div_21 * dx  + Lam *div_12 * dx )\n",
    "    return vf\n",
    "\n",
    "           \n",
    "def A21_vf(dim):\n",
    "    from pyiga.vform import VForm, grad, inner, div, dx, Dx\n",
    "    vf = VForm(dim)\n",
    "    u, v = vf.basisfuns()\n",
    "\n",
    "    grad_uv= inner(grad(u), grad(v))\n",
    "    div_12 = Dx(u,1) * Dx(v,0)\n",
    "    div_21 = Dx(u,0) * Dx(v,1)\n",
    "    \n",
    "    vf.add( Mu * div_12 * dx  + Lam *div_21* dx )\n",
    "    return vf\n",
    "           \n",
    "def A22_vf(dim):\n",
    "    from pyiga.vform import VForm, grad, inner, div, dx, Dx\n",
    "    vf = VForm(dim)\n",
    "    u, v = vf.basisfuns()\n",
    "\n",
    "    grad_uv= inner(grad(u), grad(v))\n",
    "    div_22 = Dx(u,1) * Dx(v,1)\n",
    "    \n",
    "    vf.add(Mu * ( grad_uv +  div_22) * dx  + Lam *div_22 * dx)\n",
    "    return vf\n"
   ]
  },
  {
   "cell_type": "code",
   "execution_count": null,
   "metadata": {},
   "outputs": [],
   "source": []
  },
  {
   "cell_type": "code",
   "execution_count": 8,
   "metadata": {},
   "outputs": [],
   "source": [
    "# source term f \n",
    "f = lambda x,y: (0.0) # source term"
   ]
  },
  {
   "cell_type": "code",
   "execution_count": 9,
   "metadata": {},
   "outputs": [],
   "source": [
    "#Neumann BC\n",
    "def g_N(x, y): return (-3e-7) # Neumann BC function\n",
    "\n",
    "def g0(x,y):\n",
    "    if (x>4).all():\n",
    "        return -3e-7 # set force at distal end only\n",
    "    else:\n",
    "        return 0\n",
    "    \n",
    "def g(x,y):\n",
    "    #print(x)\n",
    "    if isinstance(x,numpy.float64):\n",
    "        return (g0(x,y))\n",
    "    #print (([g0(xi,0) for xi in np.nditer(x)]))\n",
    "    return ([g0(xi,0) for xi in np.nditer(x)])\n",
    "\n",
    "\n",
    "# set inhom. Neumann cond. on distal end, hom. NBC elsewhere\n",
    "neu_data = [\n",
    "  #  (0, 'top', g),\n",
    "    (1, 'top', g) \n",
    "]\n",
    "\n",
    "MP = assemble.Multipatch(patches, {'N':neu_data}, automatch=True)\n",
    "#MP = assemble.Multipatch(patches, automatch=True) # without Neumann! "
   ]
  },
  {
   "cell_type": "code",
   "execution_count": 10,
   "metadata": {},
   "outputs": [],
   "source": [
    "#MP.shared_per_patch\n",
    "#MP.shared_dofs\n",
    "#print(MP.global_to_patch(1))"
   ]
  },
  {
   "cell_type": "code",
   "execution_count": 11,
   "metadata": {},
   "outputs": [
    {
     "name": "stdout",
     "output_type": "stream",
     "text": [
      "(66, 66)\n",
      "(132, 132)\n"
     ]
    }
   ],
   "source": [
    "#A, rhs, N = MP.assemble_system(linelast_vf(2), vform.L2functional_vf(2, physical=True), f=f)\n",
    "\n",
    "A11, rhs1, nbc11 = MP.assemble_system(A11_vf(2), vform.L2functional_vf(2, physical=True), f=f)\n",
    "A12, rhs12, nbc12 = MP.assemble_system(A12_vf(2), vform.L2functional_vf(2, physical=True), f=f) \n",
    "A21, rhs21, nbc21 = MP.assemble_system(A21_vf(2), vform.L2functional_vf(2, physical=True), f=f) \n",
    "A22, rhs2, nbc22 = MP.assemble_system(A22_vf(2), vform.L2functional_vf(2, physical=True), f=f)\n",
    "\n",
    "A = bmat([[A11, A12], [A21, A22]])\n",
    "\n",
    "print(shape(A11))\n",
    "print(shape(A))\n"
   ]
  },
  {
   "cell_type": "code",
   "execution_count": 12,
   "metadata": {},
   "outputs": [
    {
     "name": "stdout",
     "output_type": "stream",
     "text": [
      "(132,)\n"
     ]
    }
   ],
   "source": [
    "rhs= np.hstack((rhs1, rhs2))\n",
    "print(shape(rhs))\n",
    "\n",
    "nbc= np.hstack((np.zeros(shape(nbc11)), nbc22)) ## in y-dir only"
   ]
  },
  {
   "cell_type": "code",
   "execution_count": 13,
   "metadata": {
    "scrolled": true
   },
   "outputs": [
    {
     "name": "stdout",
     "output_type": "stream",
     "text": [
      "(2, 6)\n"
     ]
    }
   ],
   "source": [
    "# Dirichlet BC\n",
    "# Dirichlet boundary function g\n",
    "def g_zero(x, y): return (0.0) # scalar!\n",
    "\n",
    "bcs = MP.compute_dirichlet_bcs([\n",
    "    (0, 'left', g_zero)\n",
    "])\n",
    "print(shape(bcs))\n",
    "#print(bcs)\n",
    "\n",
    "bcs2= bcs[0]+MP.numdofs \n",
    "bcs12= np.append(bcs[0],bcs2)\n",
    "bcs22 = np.append(bcs[1],bcs[1])\n",
    "\n",
    "bc= [bcs12, bcs22]\n",
    "#print(shape(bc))\n",
    "#print(bc)\n"
   ]
  },
  {
   "cell_type": "code",
   "execution_count": 14,
   "metadata": {},
   "outputs": [],
   "source": [
    "# set up and solve linear system\n",
    "LS = assemble.RestrictedLinearSystem(A, rhs +nbc, bc) #\n",
    "u = LS.complete(solvers.make_solver(LS.A, spd=True).dot(LS.b))\n",
    "\n",
    "#print(shape(u))\n",
    "#print(u)\n"
   ]
  },
  {
   "cell_type": "code",
   "execution_count": 15,
   "metadata": {
    "scrolled": true
   },
   "outputs": [],
   "source": [
    "#print(MP.numdofs) # global dofs (=all dofs interface dofs,i.e. 2x16-4 = 28)\n",
    "#print(2*MP.numdofs) \n",
    "\n",
    "u1 = u[:MP.numdofs]\n",
    "u2 = u[MP.numdofs:2*MP.numdofs]\n",
    "\n",
    "#print('u1= ',u1)\n",
    "#print(shape(u1))\n",
    "#print('u2= ', u2)\n",
    "#print(shape(u2))\n",
    "\n",
    "U = np.stack((u1,u2), axis=-1)\n",
    "#print(U)\n",
    "#print(shape(U))\n"
   ]
  },
  {
   "cell_type": "code",
   "execution_count": 16,
   "metadata": {},
   "outputs": [
    {
     "name": "stdout",
     "output_type": "stream",
     "text": [
      "(6, 6)\n",
      "36\n",
      "(6, 6)\n",
      "36\n"
     ]
    }
   ],
   "source": [
    "N = tuple(kv.numdofs for kv in kvs)\n",
    "print(N)\n",
    "print(np.prod(N))\n",
    "m_u = tuple(kv.numdofs for kv in kvs)\n",
    "print (m_u)\n",
    "\n",
    "num= np.prod(tuple(kv.numdofs for kv in kvs)) # inner dofs\n",
    "print(num)"
   ]
  },
  {
   "cell_type": "code",
   "execution_count": 17,
   "metadata": {},
   "outputs": [],
   "source": [
    "# restrict solution to each individual patch\n",
    "u1_funcs = [geometry.BSplineFunc(kvs, MP.global_to_patch(p) @ u1)\n",
    "           for p in range(len(patches))]\n",
    "u2_funcs = [geometry.BSplineFunc(kvs, MP.global_to_patch(p) @ u2)\n",
    "           for p in range(len(patches))]\n"
   ]
  },
  {
   "cell_type": "code",
   "execution_count": 18,
   "metadata": {},
   "outputs": [],
   "source": [
    "def plot_grid(x,y, ax=None, **kwargs):\n",
    "    ax = ax or plt.gca()\n",
    "    segs1 = np.stack((x,y), axis=2)\n",
    "    segs2 = segs1.transpose(1,0,2)\n",
    "    ax.add_collection(LineCollection(segs1, **kwargs))\n",
    "    ax.add_collection(LineCollection(segs2, **kwargs))\n",
    "    ax.autoscale()\n",
    "    "
   ]
  },
  {
   "cell_type": "code",
   "execution_count": 19,
   "metadata": {},
   "outputs": [],
   "source": [
    "# evaluate displacement and \"pressure\" over a grid in the parameter domain\n",
    "xgrid = linspace(0, 1, 10)\n",
    "xygrid = (xgrid, xgrid)\n"
   ]
  },
  {
   "cell_type": "code",
   "execution_count": 27,
   "metadata": {},
   "outputs": [
    {
     "data": {
      "image/png": "[encoded data removed]",
      "text/plain": [
       "<Figure size 576x432 with 4 Axes>"
      ]
     },
     "metadata": {
      "needs_background": "light"
     },
     "output_type": "display_data"
    }
   ],
   "source": [
    "figsize(8,6)\n",
    "fig, ax = plt.subplots()\n",
    "\n",
    "for (u1_func,u2_func, (kvs, geo)) in zip(u1_funcs, u2_funcs, patches):\n",
    "    #print(u_func)\n",
    "    plt.subplot(1, 2, 1)\n",
    "    \n",
    "    vis.plot_field((u1_func), geo, vmin=0, vmax=1.5e-2)\n",
    "    axis('scaled')\n",
    "    colorbar();\n",
    "    plt.subplot(1, 2, 2)\n",
    "\n",
    "    vis.plot_field((u2_func), geo, vmin=0, vmax=1.5e-2)\n",
    "    axis('scaled')\n",
    "    colorbar();\n"
   ]
  },
  {
   "cell_type": "code",
   "execution_count": 21,
   "metadata": {},
   "outputs": [
    {
     "data": {
      "text/plain": [
       "(0.0, 5.011481556859403, 0.8389515565607912, 1.5)"
      ]
     },
     "execution_count": 21,
     "metadata": {},
     "output_type": "execute_result"
    },
    {
     "data": {
      "image/png": "[encoded data removed]",
      "text/plain": [
       "<Figure size 720x720 with 2 Axes>"
      ]
     },
     "metadata": {
      "needs_background": "light"
     },
     "output_type": "display_data"
    }
   ],
   "source": [
    "figsize(10,10)\n",
    "fig, ax = plt.subplots()\n",
    "i=0\n",
    "d=[]\n",
    "             \n",
    "for (u1_func, u2_func, (kvs, geo)) in zip(u1_funcs, u2_funcs, patches): #u_funcs \n",
    "    #print(i)\n",
    "    dis1= u1_func.grid_eval(xygrid)\n",
    "    dis2 = u2_func.grid_eval(xygrid) \n",
    "\n",
    "    dis = np.stack((dis1,dis2), axis=-1)\n",
    "    #print('dis=', dis)\n",
    "    #print('dis1= ', dis1)\n",
    "    #print(shape(dis1))\n",
    "    #print('dis2= ', dis2)\n",
    "    i+=1\n",
    "    #d.append(dis)\n",
    "\n",
    "    G = geo.grid_eval(xygrid)\n",
    "    plot_grid(G[...,0], G[...,1], ax=ax, color=\"lightgrey\")\n",
    "    plot_grid(G[...,0]+dis1, G[...,1]+dis2,ax=ax, color=\"black\")\n",
    "    pcolormesh(G[...,0]+dis1, G[...,1]+dis2, dis2, cmap='summer', shading='gouraud');\n",
    "    #pcolormesh(G[...,0]+dis[...,0], G[...,1]+dis[...,1], dis[...,0], cmap='summer', shading='gouraud');\n",
    "\n",
    "#pcolormesh(G[...,0]+d[...,0], G[...,1]+d[...,1], d[...,1], cmap='summer', shading='gouraud');\n",
    "\n",
    "\n",
    "    \n",
    "#print(shape(d)) \n",
    "#print('d=', d)\n",
    "\n",
    "#print(d[0][...,0]) #x values in 1st patch\n",
    "#print(d[1][...,0]) #x values in 2nd patch\n",
    "colorbar();\n",
    "axis('equal')\n"
   ]
  },
  {
   "cell_type": "code",
   "execution_count": null,
   "metadata": {},
   "outputs": [],
   "source": []
  },
  {
   "cell_type": "code",
   "execution_count": null,
   "metadata": {},
   "outputs": [],
   "source": []
  },
  {
   "cell_type": "code",
   "execution_count": null,
   "metadata": {},
   "outputs": [],
   "source": []
  }
 ],
 "metadata": {
  "kernelspec": {
   "display_name": "Python 3 (ipykernel)",
   "language": "python",
   "name": "python3"
  },
  "language_info": {
   "codemirror_mode": {
    "name": "ipython",
    "version": 3
   },
   "file_extension": ".py",
   "mimetype": "text/x-python",
   "name": "python",
   "nbconvert_exporter": "python",
   "pygments_lexer": "ipython3",
   "version": "3.9.12"
  }
 },
 "nbformat": 4,
 "nbformat_minor": 4
}
