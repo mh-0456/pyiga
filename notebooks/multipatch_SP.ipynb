{
 "cells": [
  {
   "cell_type": "markdown",
   "metadata": {},
   "source": [
    "# Linear elasticity in a multipatch domain"
   ]
  },
  {
   "cell_type": "code",
   "execution_count": 63,
   "metadata": {},
   "outputs": [
    {
     "name": "stdout",
     "output_type": "stream",
     "text": [
      "%pylab is deprecated, use %matplotlib inline and import the required libraries.\n",
      "Populating the interactive namespace from numpy and matplotlib\n"
     ]
    },
    {
     "name": "stderr",
     "output_type": "stream",
     "text": [
      "C:\\Users\\MHeig\\anaconda3\\lib\\site-packages\\IPython\\core\\magics\\pylab.py:162: UserWarning: pylab import has clobbered these variables: ['bmat', 'f', 'rc']\n",
      "`%matplotlib` prevents importing * from pylab and numpy\n",
      "  warn(\"pylab import has clobbered these variables: %s\"  % clobbered +\n"
     ]
    }
   ],
   "source": [
    "%pylab inline\n",
    "import scipy\n",
    "import itertools\n",
    "\n",
    "from pyiga import bspline, assemble, vform, geometry, vis, solvers\n",
    "\n",
    "import numpy as np\n",
    "import matplotlib.pyplot as plt\n",
    "\n",
    "# assemble matrix\n",
    "from scipy.sparse import coo_matrix, block_diag, bmat"
   ]
  },
  {
   "cell_type": "code",
   "execution_count": 64,
   "metadata": {},
   "outputs": [],
   "source": [
    "p = 2  # spline degree \n",
    "n_el = (50, 10)   # number of elements in y/x direction, isotropic material\n",
    "#n_el = (50, 20)   # number of elements in y/x direction\n",
    "# displacement space: degree p,   continuity p-1\n",
    "kvs = tuple(bspline.make_knots(p, 0.0, 1.0, n, mult=1) for n in n_el) # or : mult=2\n",
    "m_u = tuple(kv.numdofs for kv in kvs)\n"
   ]
  },
  {
   "cell_type": "code",
   "execution_count": 65,
   "metadata": {},
   "outputs": [],
   "source": [
    "# define geometry map\n",
    "# undeformed stick\n",
    "geo1 = geometry.tensor_product(geometry.line_segment(1,1.5), geometry.line_segment(0,2.5, intervals=3))\n",
    "\n",
    "geos = [\n",
    "    geo1,\n",
    "    geo1.translate((2.5,0))\n",
    "]\n",
    "\n",
    "patches = [(kvs, g) for g in geos]\n",
    "\n",
    "#print(kvs)"
   ]
  },
  {
   "cell_type": "code",
   "execution_count": 66,
   "metadata": {},
   "outputs": [
    {
     "data": {
      "image/png": "[encoded data removed]",
      "text/plain": [
       "<Figure size 432x288 with 1 Axes>"
      ]
     },
     "metadata": {
      "needs_background": "light"
     },
     "output_type": "display_data"
    }
   ],
   "source": [
    "for g in geos:\n",
    "    vis.plot_geo(g,grid=2)\n",
    "axis('equal');"
   ]
  },
  {
   "cell_type": "code",
   "execution_count": 67,
   "metadata": {},
   "outputs": [],
   "source": [
    "# rubber, Lamé-coeff.\n",
    "Mu = 0.003 # [GPa]\n",
    "Lam = 0.00028416 #  [GPa] (under ass. ny=0.48, almost incompressible)"
   ]
  },
  {
   "cell_type": "code",
   "execution_count": 68,
   "metadata": {},
   "outputs": [],
   "source": [
    "def A11_vf(dim):\n",
    "    from pyiga.vform import VForm, grad, inner, div, dx, Dx\n",
    "    vf = VForm(dim)\n",
    "    u, v = vf.basisfuns()\n",
    "    \n",
    "    grad_uv= inner(grad(u), grad(v))\n",
    "    div_11 = Dx(u,0) * Dx(v,0)\n",
    "    \n",
    "    vf.add(Mu * ( grad_uv +  div_11) * dx )\n",
    "    return vf\n",
    "\n",
    "def A12_vf(dim):\n",
    "    from pyiga.vform import VForm, grad, inner, div, dx, Dx\n",
    "    vf = VForm(dim)\n",
    "    u, v = vf.basisfuns()\n",
    "    \n",
    "    div_21 = Dx(u,0) * Dx(v,1)\n",
    "    \n",
    "    vf.add(Mu * div_21 * dx )\n",
    "    return vf\n",
    "\n",
    "           \n",
    "def A21_vf(dim):\n",
    "    from pyiga.vform import VForm, grad, inner, div, dx, Dx\n",
    "    vf = VForm(dim)\n",
    "    u, v = vf.basisfuns()\n",
    "\n",
    "    grad_uv= inner(grad(u), grad(v))\n",
    "    div_12 = Dx(u,1) * Dx(v,0)\n",
    "    \n",
    "    vf.add( Mu * div_12 * dx)\n",
    "    return vf\n",
    "           \n",
    "def A22_vf(dim):\n",
    "    from pyiga.vform import VForm, grad, inner, div, dx, Dx\n",
    "    vf = VForm(dim)\n",
    "    u, v = vf.basisfuns()\n",
    "\n",
    "    grad_uv= inner(grad(u), grad(v))\n",
    "    div_22 = Dx(u,1) * Dx(v,1)\n",
    "    \n",
    "    vf.add(Mu * ( grad_uv +  div_22) * dx )\n",
    "    return vf\n",
    "\n",
    "\n",
    "def B1_vf(dim):\n",
    "    from pyiga.vform import VForm, dx, Dx\n",
    "    vf = VForm(dim)\n",
    "    u, p = vf.basisfuns()\n",
    "    vf.add( - Dx(u,0) * p * dx)\n",
    "    return vf\n",
    "\n",
    "def B2_vf(dim):\n",
    "    from pyiga.vform import VForm, dx, Dx\n",
    "    vf = VForm(dim)\n",
    "    u, p = vf.basisfuns()\n",
    "    vf.add( - Dx(u,1) * p * dx)\n",
    "    return vf\n",
    "\n",
    "def C_vf(dim):\n",
    "    from pyiga.vform import VForm, dx\n",
    "    vf = VForm(dim)\n",
    "    p,q= vf.basisfuns()\n",
    "    vf.add( -(1/Lam) * p * q * dx)\n",
    "    return vf\n"
   ]
  },
  {
   "cell_type": "code",
   "execution_count": 69,
   "metadata": {},
   "outputs": [],
   "source": [
    "# source term f \n",
    "f = lambda x,y: (0.0) # source term"
   ]
  },
  {
   "cell_type": "code",
   "execution_count": 70,
   "metadata": {},
   "outputs": [],
   "source": [
    "#Neumann BC\n",
    "def g_N(x, y): return (-3e-7) # Neumann BC function\n",
    "\n",
    "def g0(x,y):\n",
    "    if (x>4).all():\n",
    "        return -3e-7 # set force at distal end only\n",
    "    else:\n",
    "        return 0\n",
    "    \n",
    "def g(x,y):\n",
    "    #print(x)\n",
    "    if isinstance(x,numpy.float64):\n",
    "        return (g0(x,y))\n",
    "    #print (([g0(xi,0) for xi in np.nditer(x)]))\n",
    "    return ([g0(xi,0) for xi in np.nditer(x)])\n",
    "\n",
    "\n",
    "# set inhom. Neumann cond. on distal end, hom. NBC elsewhere\n",
    "neu_data = [\n",
    "  #  (0, 'top', g),\n",
    "    (1, 'top', g) \n",
    "]\n",
    "\n",
    "MP = assemble.Multipatch(patches, {'N':neu_data}, automatch=True)\n",
    "#MP = assemble.Multipatch(patches, automatch=True) # without Neumann! "
   ]
  },
  {
   "cell_type": "code",
   "execution_count": 71,
   "metadata": {},
   "outputs": [
    {
     "name": "stdout",
     "output_type": "stream",
     "text": [
      "(3588, 3588)\n"
     ]
    }
   ],
   "source": [
    "#A, rhs, N = MP.assemble_system(linelast_vf(2), vform.L2functional_vf(2, physical=True), f=f)\n",
    "\n",
    "A11, rhs1, nbc11 = MP.assemble_system(A11_vf(2), vform.L2functional_vf(2, physical=True), f=f)\n",
    "A12, rhs12, nbc12 = MP.assemble_system(A12_vf(2), vform.L2functional_vf(2, physical=True), f=f) \n",
    "A21, rhs21, nbc21 = MP.assemble_system(A21_vf(2), vform.L2functional_vf(2, physical=True), f=f) \n",
    "A22, rhs2, nbc22 = MP.assemble_system(A22_vf(2), vform.L2functional_vf(2, physical=True), f=f)\n",
    "\n",
    "B1, rb1, nb1 = MP.assemble_system(B1_vf(2), vform.L2functional_vf(2, physical=True), f=f)\n",
    "B2, rb2, nb2 = MP.assemble_system(B2_vf(2), vform.L2functional_vf(2, physical=True), f=f)\n",
    "C, rc, nc = MP.assemble_system(C_vf(2), vform.L2functional_vf(2, physical=True), f=f)\n",
    "\n",
    "\n",
    "A = bmat([[A11, A12, B1.T], [A12.T, A22, B2.T], [B1, B2, C]])\n",
    "\n",
    "print(shape(A))\n"
   ]
  },
  {
   "cell_type": "code",
   "execution_count": 72,
   "metadata": {},
   "outputs": [],
   "source": [
    "#print(shape(C)[0])"
   ]
  },
  {
   "cell_type": "code",
   "execution_count": 73,
   "metadata": {},
   "outputs": [
    {
     "name": "stdout",
     "output_type": "stream",
     "text": [
      "(3588,)\n",
      "(3588,)\n"
     ]
    }
   ],
   "source": [
    "rhs= np.hstack((rhs1,rhs2)) # F= (f,f) \n",
    "rhs = np.pad(rhs, (0,shape(C)[0])) # (F,G)\n",
    "print(shape(rhs))\n",
    "\n",
    "#combine Neumann-BC to appropriate shape\n",
    "#nbc= np.hstack((nbc11 +nb1, nbc22+nb2, nb1+nb2+nc)) \n",
    "nbc= np.hstack((np.zeros(shape(nbc11)), nbc22,)) ## in y-dir only\n",
    "nbc = np.pad(nbc, (0,shape(C)[0])) \n",
    "print(shape(nbc))"
   ]
  },
  {
   "cell_type": "code",
   "execution_count": 74,
   "metadata": {
    "scrolled": true
   },
   "outputs": [
    {
     "name": "stdout",
     "output_type": "stream",
     "text": [
      "(2, 104)\n"
     ]
    }
   ],
   "source": [
    "# Dirichlet BC\n",
    "# Dirichlet boundary function g\n",
    "def g_zero(x, y): return (0.0) \n",
    "\n",
    "# vectorize bcs\n",
    "bcs = MP.compute_dirichlet_bcs_vec([\n",
    "    (0, 'left', g_zero)\n",
    "])\n",
    "\n",
    "#print(shape(bc))\n",
    "#print(bc)\n"
   ]
  },
  {
   "cell_type": "code",
   "execution_count": 75,
   "metadata": {},
   "outputs": [
    {
     "name": "stdout",
     "output_type": "stream",
     "text": [
      "[ 0.00000000e+00 -6.60396980e-04 -1.87303073e-03 ... -5.85578338e-07\n",
      " -6.10491598e-07 -6.22947733e-07]\n"
     ]
    }
   ],
   "source": [
    "# set up and solve linear system\n",
    "LS = assemble.RestrictedLinearSystem(A, rhs +nbc, bc) #\n",
    "u = LS.complete(solvers.make_solver(LS.A, spd=True).dot(LS.b))\n",
    "\n",
    "#print(shape(u))\n",
    "print(u)\n"
   ]
  },
  {
   "cell_type": "code",
   "execution_count": 76,
   "metadata": {
    "scrolled": true
   },
   "outputs": [],
   "source": [
    "#print(MP.numdofs) # global dofs (=all dofs interface dofs,i.e. 2x16-4 = 28)\n",
    "#print(2*MP.numdofs) \n",
    "\n",
    "u1 = u[:MP.numdofs]\n",
    "u2 = u[MP.numdofs:2*MP.numdofs]\n",
    "\n",
    "#print('u1= ',u1)\n",
    "#print(shape(u1))\n",
    "#print('u2= ', u2)\n",
    "#print(shape(u2))\n"
   ]
  },
  {
   "cell_type": "code",
   "execution_count": 77,
   "metadata": {},
   "outputs": [
    {
     "name": "stdout",
     "output_type": "stream",
     "text": [
      "(52, 12)\n",
      "624\n",
      "(52, 12)\n",
      "624\n"
     ]
    }
   ],
   "source": [
    "N = tuple(kv.numdofs for kv in kvs)\n",
    "print(N)\n",
    "print(np.prod(N))\n",
    "m_u = tuple(kv.numdofs for kv in kvs)\n",
    "print (m_u)\n",
    "\n",
    "num= np.prod(tuple(kv.numdofs for kv in kvs)) # inner dofs\n",
    "print(num)"
   ]
  },
  {
   "cell_type": "code",
   "execution_count": 78,
   "metadata": {},
   "outputs": [],
   "source": [
    "# restrict solution to each individual patch\n",
    "u1_funcs = [geometry.BSplineFunc(kvs, MP.global_to_patch(p) @ u1)\n",
    "           for p in range(len(patches))]\n",
    "u2_funcs = [geometry.BSplineFunc(kvs, MP.global_to_patch(p) @ u2)\n",
    "           for p in range(len(patches))]\n"
   ]
  },
  {
   "cell_type": "code",
   "execution_count": 79,
   "metadata": {},
   "outputs": [
    {
     "name": "stdout",
     "output_type": "stream",
     "text": [
      "-0.05321874544719282\n",
      "0.0\n",
      "-0.16390877991724198\n",
      "-0.0532059261904993\n"
     ]
    },
    {
     "data": {
      "text/plain": [
       "(0.0, 5.01167458508487, 0.8361031646303944, 1.5)"
      ]
     },
     "execution_count": 79,
     "metadata": {},
     "output_type": "execute_result"
    },
    {
     "data": {
      "image/png": "[encoded data removed]",
      "text/plain": [
       "<Figure size 720x720 with 2 Axes>"
      ]
     },
     "metadata": {
      "needs_background": "light"
     },
     "output_type": "display_data"
    }
   ],
   "source": [
    "# set refinement steps for grid (visualization)\n",
    "ref= 10\n",
    "\n",
    "# evaluate displacement over a grid in the parameter domain\n",
    "xgrid = linspace(0, 1, ref)\n",
    "xygrid = (xgrid, xgrid)\n",
    "\n",
    "figsize(10,10)\n",
    "fig, ax = plt.subplots()\n",
    "i=0\n",
    "             \n",
    "for (u1_func, u2_func, (kvs, geo)) in zip(u1_funcs, u2_funcs, patches): #u_funcs \n",
    "    #print(i)\n",
    "    dis1= u1_func.grid_eval(xygrid)\n",
    "    dis2 = u2_func.grid_eval(xygrid) \n",
    "    dis = np.stack((dis1,dis2), axis=-1)\n",
    "    #print('dis=', dis)\n",
    "    #print('dis1= ', dis1)\n",
    "    #print(shape(dis1))\n",
    "    #print('dis2= ', dis2)\n",
    "    i+=1\n",
    "    #print(dis2.min())\n",
    "    #print(dis2.max())\n",
    "    \n",
    "    vis.plot_deformation(dis, ref, geo, ax, vmin=0.0, vmax=1.25e-2)\n",
    "    \n",
    "    \n",
    "colorbar();\n",
    "axis('equal')\n"
   ]
  },
  {
   "cell_type": "code",
   "execution_count": null,
   "metadata": {},
   "outputs": [],
   "source": []
  },
  {
   "cell_type": "code",
   "execution_count": null,
   "metadata": {},
   "outputs": [],
   "source": []
  }
 ],
 "metadata": {
  "kernelspec": {
   "display_name": "Python 3 (ipykernel)",
   "language": "python",
   "name": "python3"
  },
  "language_info": {
   "codemirror_mode": {
    "name": "ipython",
    "version": 3
   },
   "file_extension": ".py",
   "mimetype": "text/x-python",
   "name": "python",
   "nbconvert_exporter": "python",
   "pygments_lexer": "ipython3",
   "version": "3.9.12"
  }
 },
 "nbformat": 4,
 "nbformat_minor": 4
}
