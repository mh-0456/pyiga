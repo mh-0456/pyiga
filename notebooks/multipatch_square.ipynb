{
 "cells": [
  {
   "cell_type": "markdown",
   "metadata": {},
   "source": [
    "# Linear elasticity in a multipatch domain"
   ]
  },
  {
   "cell_type": "code",
   "execution_count": 21,
   "metadata": {},
   "outputs": [
    {
     "name": "stdout",
     "output_type": "stream",
     "text": [
      "%pylab is deprecated, use %matplotlib inline and import the required libraries.\n",
      "Populating the interactive namespace from numpy and matplotlib\n"
     ]
    },
    {
     "name": "stderr",
     "output_type": "stream",
     "text": [
      "C:\\Users\\MHeig\\anaconda3\\lib\\site-packages\\IPython\\core\\magics\\pylab.py:162: UserWarning: pylab import has clobbered these variables: ['f', 'bmat']\n",
      "`%matplotlib` prevents importing * from pylab and numpy\n",
      "  warn(\"pylab import has clobbered these variables: %s\"  % clobbered +\n"
     ]
    }
   ],
   "source": [
    "%pylab inline\n",
    "import scipy\n",
    "import itertools\n",
    "\n",
    "from pyiga import bspline, assemble, vform, geometry, vis, solvers\n",
    "\n",
    "import numpy as np\n",
    "import matplotlib.pyplot as plt\n",
    "from matplotlib.collections import LineCollection\n",
    "\n",
    "# assemble matrix\n",
    "from scipy.sparse import coo_matrix, block_diag, bmat"
   ]
  },
  {
   "cell_type": "code",
   "execution_count": 22,
   "metadata": {},
   "outputs": [],
   "source": [
    "p = 1   # spline degree \n",
    "n_el = (3, 3)   # number of elements in y/x direction, isotropic material\n",
    "#n_el = (50, 10)   # number of elements in y/x direction, isotropic material\n",
    "#n_el = (50, 20)   # number of elements in y/x direction\n",
    "# displacement space: degree p,   continuity p-1\n",
    "kvs = tuple(bspline.make_knots(p, 0.0, 1.0, n, mult=1) for n in n_el) # or : mult=2\n",
    "m_u = tuple(kv.numdofs for kv in kvs)\n"
   ]
  },
  {
   "cell_type": "code",
   "execution_count": 23,
   "metadata": {},
   "outputs": [],
   "source": [
    "# define geometry map\n",
    "\n",
    "geos = [\n",
    "    geometry.unit_square().scale((5,1)),\n",
    "    geometry.unit_square().scale((5,1)).translate((5,0))\n",
    "]\n",
    "\n",
    "patches = [(kvs, g) for g in geos]\n",
    "\n",
    "#print(kvs)\n"
   ]
  },
  {
   "cell_type": "code",
   "execution_count": 24,
   "metadata": {},
   "outputs": [
    {
     "data": {
      "image/png": "[encoded data removed]",
      "text/plain": [
       "<Figure size 432x288 with 1 Axes>"
      ]
     },
     "metadata": {
      "needs_background": "light"
     },
     "output_type": "display_data"
    }
   ],
   "source": [
    "for g in geos:\n",
    "    vis.plot_geo(g,grid=2)\n",
    "axis('equal');"
   ]
  },
  {
   "cell_type": "code",
   "execution_count": 25,
   "metadata": {},
   "outputs": [],
   "source": [
    "# rubber, Lamé-coeff.\n",
    "Mu = 0.003 # [GPa]\n",
    "Lam = 0.00028416 #  [GPa] (under ass. ny=0.48, almost incompressible)"
   ]
  },
  {
   "cell_type": "code",
   "execution_count": 26,
   "metadata": {},
   "outputs": [],
   "source": [
    "def A11_vf(dim):\n",
    "    from pyiga.vform import VForm, grad, inner, div, dx, Dx\n",
    "    vf = VForm(dim)\n",
    "    u, v = vf.basisfuns()\n",
    "    \n",
    "    grad_uv= inner(grad(u), grad(v))\n",
    "    div_11 = Dx(u,0) * Dx(v,0)\n",
    "    \n",
    "    vf.add(Mu * ( grad_uv +  div_11) * dx  + Lam *div_11 * dx )\n",
    "    return vf\n",
    "\n",
    "def A12_vf(dim):\n",
    "    from pyiga.vform import VForm, grad, inner, div, dx, Dx\n",
    "    vf = VForm(dim)\n",
    "    u, v = vf.basisfuns()\n",
    "\n",
    "    grad_uv= inner(grad(u), grad(v))\n",
    "    div_12 = Dx(u,1) * Dx(v,0)\n",
    "    div_21 = Dx(u,0) * Dx(v,1)\n",
    "    \n",
    "    vf.add(Mu * div_21 * dx  + Lam *div_12 * dx )\n",
    "    return vf\n",
    "\n",
    "           \n",
    "def A21_vf(dim):\n",
    "    from pyiga.vform import VForm, grad, inner, div, dx, Dx\n",
    "    vf = VForm(dim)\n",
    "    u, v = vf.basisfuns()\n",
    "\n",
    "    grad_uv= inner(grad(u), grad(v))\n",
    "    div_12 = Dx(u,1) * Dx(v,0)\n",
    "    div_21 = Dx(u,0) * Dx(v,1)\n",
    "    \n",
    "    vf.add( Mu * div_12 * dx  + Lam *div_21* dx )\n",
    "    return vf\n",
    "           \n",
    "def A22_vf(dim):\n",
    "    from pyiga.vform import VForm, grad, inner, div, dx, Dx\n",
    "    vf = VForm(dim)\n",
    "    u, v = vf.basisfuns()\n",
    "\n",
    "    grad_uv= inner(grad(u), grad(v))\n",
    "    div_22 = Dx(u,1) * Dx(v,1)\n",
    "    \n",
    "    vf.add(Mu * ( grad_uv +  div_22) * dx  + Lam *div_22 * dx)\n",
    "    return vf\n",
    "\n",
    "\n",
    "#A = bmat([[A11, A12], [A21, A22]]) works"
   ]
  },
  {
   "cell_type": "code",
   "execution_count": 27,
   "metadata": {},
   "outputs": [],
   "source": [
    "# source term f \n",
    "f = lambda x,y: (0.0)  # source term"
   ]
  },
  {
   "cell_type": "code",
   "execution_count": 28,
   "metadata": {},
   "outputs": [],
   "source": [
    "#Neumann BC\n",
    "def g_N(x, y): return (-3e-7) # Neumann BC function\n",
    "\n",
    "def g0(x,y):\n",
    "    if (x>4).all():\n",
    "        return -3e-7 # set force at distal end only\n",
    "    else:\n",
    "        return 0\n",
    "    \n",
    "def g(x,y):\n",
    "    if isinstance(x,numpy.float64):\n",
    "        return (g0(x,y))\n",
    "    return ([g0(xi,0) for xi in np.nditer(x)])\n",
    "\n",
    "\n",
    "# set inhom. Neumann cond. on distal end, hom. NBC elsewhere\n",
    "neu_data = [\n",
    "    #(0, 'top', g),\n",
    "    (1, 'top', g_N) \n",
    "]\n",
    "\n",
    "MP = assemble.Multipatch(patches, {'N':neu_data}, automatch=True)\n",
    "\n",
    "#MP = assemble.Multipatch(patches, automatch=True) # without Neumann! "
   ]
  },
  {
   "cell_type": "code",
   "execution_count": 29,
   "metadata": {},
   "outputs": [],
   "source": [
    "#MP.shared_per_patch\n",
    "#MP.shared_dofs\n",
    "#print(MP.global_to_patch(1))"
   ]
  },
  {
   "cell_type": "code",
   "execution_count": 30,
   "metadata": {},
   "outputs": [
    {
     "name": "stdout",
     "output_type": "stream",
     "text": [
      "(28, 28)\n",
      "(56, 56)\n"
     ]
    }
   ],
   "source": [
    "#A, rhs, N = MP.assemble_system(linelast_vf(2), vform.L2functional_vf(2, physical=True), f=f)\n",
    "\n",
    "A11, rhs1, nbc11 = MP.assemble_system(A11_vf(2), vform.L2functional_vf(2, physical=True), f=f)\n",
    "A12, rhs12, nbc2 = MP.assemble_system(A12_vf(2), vform.L2functional_vf(2, physical=True), f=f) \n",
    "A21, rhs21, nbc21 = MP.assemble_system(A21_vf(2), vform.L2functional_vf(2, physical=True), f=f) \n",
    "A22, rhs2, nbc22 = MP.assemble_system(A22_vf(2), vform.L2functional_vf(2, physical=True), f=f)\n",
    "\n",
    "A = bmat([[A11, A12], [A21, A22]])\n",
    "\n",
    "print(shape(A11))\n",
    "print(shape(A))\n"
   ]
  },
  {
   "cell_type": "code",
   "execution_count": 31,
   "metadata": {},
   "outputs": [
    {
     "data": {
      "text/plain": [
       "<matplotlib.lines.Line2D at 0x24e4c904790>"
      ]
     },
     "execution_count": 31,
     "metadata": {},
     "output_type": "execute_result"
    },
    {
     "data": {
      "image/png": "[encoded data removed]",
      "text/plain": [
       "<Figure size 432x288 with 1 Axes>"
      ]
     },
     "metadata": {
      "needs_background": "light"
     },
     "output_type": "display_data"
    }
   ],
   "source": [
    "spy(A)"
   ]
  },
  {
   "cell_type": "code",
   "execution_count": 32,
   "metadata": {},
   "outputs": [
    {
     "name": "stdout",
     "output_type": "stream",
     "text": [
      "(56,)\n",
      "(56,)\n",
      "[ 0.0e+00  0.0e+00  0.0e+00  0.0e+00  0.0e+00  0.0e+00  0.0e+00  0.0e+00\n",
      "  0.0e+00  0.0e+00  0.0e+00  0.0e+00  0.0e+00  0.0e+00  0.0e+00  0.0e+00\n",
      "  0.0e+00  0.0e+00  0.0e+00  0.0e+00  0.0e+00  0.0e+00  0.0e+00  0.0e+00\n",
      "  0.0e+00  0.0e+00  0.0e+00  0.0e+00  0.0e+00  0.0e+00  0.0e+00  0.0e+00\n",
      "  0.0e+00  0.0e+00  0.0e+00  0.0e+00  0.0e+00  0.0e+00  0.0e+00  0.0e+00\n",
      "  0.0e+00  0.0e+00  0.0e+00  0.0e+00  0.0e+00  0.0e+00  0.0e+00  0.0e+00\n",
      "  0.0e+00 -5.0e-07 -5.0e-07 -2.5e-07  0.0e+00  0.0e+00  0.0e+00 -2.5e-07]\n"
     ]
    }
   ],
   "source": [
    "#print(rhs1)\n",
    "#print(rhs2)\n",
    "rhs= np.hstack((rhs1, rhs2))\n",
    "#rhs = np. zeros(sh) # rhs =0\n",
    "print(shape(rhs))\n",
    "#print(rhs)\n",
    "\n",
    "#combine Neumann-BC to appropriate shape\n",
    "nbc= np.hstack((np.zeros(shape(nbc11)), nbc22)) ##???\n",
    "print(shape(nbc))\n",
    "print(nbc)\n"
   ]
  },
  {
   "cell_type": "code",
   "execution_count": 33,
   "metadata": {
    "scrolled": true
   },
   "outputs": [
    {
     "name": "stdout",
     "output_type": "stream",
     "text": [
      "28\n",
      "[array([ 0,  3,  6,  9, 28, 31, 34, 37]), array([0., 0., 0., 0., 0., 0., 0., 0.])]\n",
      "(2, 8)\n",
      "(array([ 0,  3,  6,  9, 28, 31, 34, 37]), array([0., 0., 0., 0., 0., 0., 0., 0.]))\n"
     ]
    }
   ],
   "source": [
    "# Dirichlet BC\n",
    "# Dirichlet boundary function g\n",
    "def g_zero(x, y): return (0.0) # scalar!\n",
    "\n",
    "bcs = MP.compute_dirichlet_bcs([\n",
    "    (0, 'left', g_zero)\n",
    "])\n",
    "#print(shape(bcs))\n",
    "#print(bcs)\n",
    "\n",
    "#num= np.prod(tuple(kv.numdofs for kv in kvs)) # inner dofs\n",
    "#print(kvs)\n",
    "#print(2*num)\n",
    "print(MP.numdofs) # golbal dofs\n",
    "\n",
    "bcs2= bcs[0]+MP.numdofs \n",
    "\n",
    "\n",
    "bcs12= np.append(bcs[0],bcs2)\n",
    "bcs22 = np.append(bcs[1],bcs[1])\n",
    "#print(bcs12)\n",
    "bc= [bcs12, bcs22]\n",
    "#print(shape(bc))\n",
    "print(bc)\n",
    "\n",
    "# vectorize bcs\n",
    "bcs = MP.compute_dirichlet_bcs_vec([\n",
    "    (0, 'left', g_zero)\n",
    "])\n",
    "print(shape(bcs))\n",
    "print(bcs)\n"
   ]
  },
  {
   "cell_type": "code",
   "execution_count": 41,
   "metadata": {},
   "outputs": [],
   "source": [
    "# set up and solve linear system\n",
    "LS = assemble.RestrictedLinearSystem(A, rhs +nbc, bcs) #\n",
    "\n",
    "u = LS.complete(solvers.make_solver(LS.A, spd=True).dot(LS.b))\n",
    "\n",
    "#print(shape(u))\n",
    "#print(u)\n"
   ]
  },
  {
   "cell_type": "code",
   "execution_count": 35,
   "metadata": {
    "scrolled": true
   },
   "outputs": [
    {
     "name": "stdout",
     "output_type": "stream",
     "text": [
      "28\n",
      "56\n"
     ]
    }
   ],
   "source": [
    "#N= np.prod(tuple(kv.numdofs for kv in kvs))\n",
    "#print(N) \n",
    "print(MP.numdofs) # global dofs (=all dofs interface dofs,i.e. 2x16-4 = 28)\n",
    "print(2*MP.numdofs) \n",
    "\n",
    "u1 = u[:MP.numdofs] \n",
    "u2 = u[MP.numdofs:2*MP.numdofs]\n",
    "#print(shape(u1))\n",
    "#print(u1)\n",
    "#print(shape(u2))\n",
    "#print(u2)\n",
    "\n",
    "#print(MP.global_to_patch(1))\n",
    "#print(MP.patch_to_global(1))"
   ]
  },
  {
   "cell_type": "code",
   "execution_count": 36,
   "metadata": {},
   "outputs": [],
   "source": [
    "# restrict solution to each individual patch\n",
    "u1_funcs = [geometry.BSplineFunc(kvs, MP.global_to_patch(p) @ u1)\n",
    "           for p in range(len(patches))]\n",
    "u2_funcs = [geometry.BSplineFunc(kvs, MP.global_to_patch(p) @ u2)\n",
    "           for p in range(len(patches))]\n"
   ]
  },
  {
   "cell_type": "code",
   "execution_count": 37,
   "metadata": {},
   "outputs": [],
   "source": [
    "def plot_grid(x,y, ax=None, **kwargs):\n",
    "    ax = ax or plt.gca()\n",
    "    segs1 = np.stack((x,y), axis=2)\n",
    "    segs2 = segs1.transpose(1,0,2)\n",
    "    ax.add_collection(LineCollection(segs1, **kwargs))\n",
    "    ax.add_collection(LineCollection(segs2, **kwargs))\n",
    "    ax.autoscale()\n",
    "    "
   ]
  },
  {
   "cell_type": "code",
   "execution_count": 38,
   "metadata": {},
   "outputs": [],
   "source": [
    "# evaluate displacement and \"pressure\" over a grid in the parameter domain\n",
    "xgrid = linspace(0, 1, 5)\n",
    "xygrid = (xgrid, xgrid)\n"
   ]
  },
  {
   "cell_type": "code",
   "execution_count": 39,
   "metadata": {},
   "outputs": [
    {
     "data": {
      "image/png": "[encoded data removed]",
      "text/plain": [
       "<Figure size 576x432 with 2 Axes>"
      ]
     },
     "metadata": {
      "needs_background": "light"
     },
     "output_type": "display_data"
    }
   ],
   "source": [
    "figsize(8,6)\n",
    "\n",
    "for (u1_func, (kvs, geo)) in zip(u1_funcs, patches):\n",
    "    #print(u_func)\n",
    "    vis.plot_field((u1_func), geo, vmin=0, vmax=1.5e-1)\n",
    "axis('scaled')\n",
    "colorbar();"
   ]
  },
  {
   "cell_type": "code",
   "execution_count": 40,
   "metadata": {},
   "outputs": [
    {
     "data": {
      "text/plain": [
       "(0.0, 10.018121082207319, -0.2655171147181262, 1.0)"
      ]
     },
     "execution_count": 40,
     "metadata": {},
     "output_type": "execute_result"
    },
    {
     "data": {
      "image/png": "[encoded data removed]",
      "text/plain": [
       "<Figure size 720x720 with 2 Axes>"
      ]
     },
     "metadata": {
      "needs_background": "light"
     },
     "output_type": "display_data"
    }
   ],
   "source": [
    "figsize(10,10)\n",
    "fig, ax = plt.subplots()\n",
    "\n",
    "#i=0\n",
    "for (u1_func, u2_func, (kvs, geo)) in zip(u1_funcs, u2_funcs, patches): #u_funcs \n",
    "    #print(i)\n",
    "    dis1 = u1_func.grid_eval(xygrid)\n",
    "    \n",
    "    dis2 = u2_func.grid_eval(xygrid) \n",
    "    \n",
    "    G = geo.grid_eval(xygrid)\n",
    "    plot_grid(G[...,0], G[...,1], ax=ax, color=\"lightgrey\")\n",
    "    plot_grid(G[...,0]+dis1, G[...,1]+dis2,ax=ax, color=\"black\")\n",
    "    pcolormesh(G[...,0]+dis1, G[...,1]+dis2, dis1, cmap='summer', shading='gouraud');\n",
    "    #i+=1\n",
    "    #print('dis1= ', dis1)\n",
    "    #print('dis2= ', dis2)\n",
    "\n",
    "colorbar();\n",
    "axis('equal')\n"
   ]
  },
  {
   "cell_type": "code",
   "execution_count": null,
   "metadata": {},
   "outputs": [],
   "source": []
  },
  {
   "cell_type": "code",
   "execution_count": null,
   "metadata": {},
   "outputs": [],
   "source": []
  },
  {
   "cell_type": "code",
   "execution_count": null,
   "metadata": {},
   "outputs": [],
   "source": []
  }
 ],
 "metadata": {
  "kernelspec": {
   "display_name": "Python 3 (ipykernel)",
   "language": "python",
   "name": "python3"
  },
  "language_info": {
   "codemirror_mode": {
    "name": "ipython",
    "version": 3
   },
   "file_extension": ".py",
   "mimetype": "text/x-python",
   "name": "python",
   "nbconvert_exporter": "python",
   "pygments_lexer": "ipython3",
   "version": "3.9.12"
  }
 },
 "nbformat": 4,
 "nbformat_minor": 4
}
